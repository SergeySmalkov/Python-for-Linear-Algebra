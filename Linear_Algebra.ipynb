{
 "cells": [
  {
   "cell_type": "code",
   "execution_count": 1079,
   "id": "60d99218",
   "metadata": {},
   "outputs": [],
   "source": [
    "covariance_matrix = [[1, 2, 3, 4],\n",
    "                     [4, 3, 2, 1],\n",
    "                     [90, -90, 50, -50],\n",
    "                     [-100, 500, -90, 45]]\n",
    "\n",
    "#covariance_matrix = [[11.0, 25.0, -30.0],\n",
    "#                     [-3.0, 2.0, 50.0],\n",
    "#                     [-10.0, 100.0, 50.0]]\n",
    "\n",
    "def convert_matrix_to_decimals(matrix):\n",
    "    for i in range(len(matrix)):\n",
    "        for j in range(len(matrix[0])):\n",
    "            matrix[i][j] =  Decimal(matrix[i][j])\n",
    "    return matrix\n",
    "                     \n",
    "\n",
    "n = len(covariance_matrix)\n",
    "import math  #for sqrt function\n",
    "from decimal import Decimal  # to be more precise in arithmetics instead of floats\n",
    "import copy\n",
    "\n",
    "covariance_matrix = convert_matrix_to_decimals(covariance_matrix)"
   ]
  },
  {
   "cell_type": "code",
   "execution_count": 1080,
   "id": "1f2f6f5d",
   "metadata": {},
   "outputs": [],
   "source": [
    "# Task 1\n",
    "# LU decomposition using Gauss Elimination\n",
    "\n",
    "\n",
    "def generate_null_matrix(dimension):\n",
    "    elementary_matrix = [[] for i in range(dimension)]\n",
    "    for i in range(dimension):\n",
    "        for j in range(dimension): \n",
    "            elementary_matrix[i].append(Decimal(0.0))\n",
    "    return elementary_matrix\n",
    "\n",
    "\n",
    "def square_matrix_multiplication(matrix_a, matrix_b):\n",
    "    result_matrix = generate_null_matrix(len(matrix_a))\n",
    "    for i in range(n):\n",
    "        for j in range(n):\n",
    "            for k in range(n):\n",
    "                result_matrix[i][j] += matrix_a[i][k] * matrix_b[k][j]\n",
    "    return result_matrix\n",
    "\n",
    "\n",
    "def ones_column(diagonal_element, elementary_matrices_array, temporary_matrix):\n",
    "    el = generate_null_matrix(len(temporary_matrix))\n",
    "    for i in range(n):\n",
    "        if(i < diagonal_element):\n",
    "            el[i][i] = Decimal(1.0) \n",
    "        else:\n",
    "            if(temporary_matrix[i][diagonal_element] == 0.0):\n",
    "                el[i][i] = Decimal(1.0)\n",
    "            else:\n",
    "                el[i][i] = Decimal(1.0) / temporary_matrix[i][diagonal_element]\n",
    "    elementary_matrices_array.append(el)\n",
    "    temporary_matrix = square_matrix_multiplication(el, temporary_matrix)\n",
    "    return elementary_matrices_array, temporary_matrix\n",
    "\n",
    "def zeroes_column(diagonal_element, elementary_matrices_array, temporary_matrix):\n",
    "    el = generate_null_matrix(len(temporary_matrix))\n",
    "    for i in range(n):\n",
    "        el[i][i] = Decimal(1.0)\n",
    "        if(i > diagonal_element):\n",
    "            if(temporary_matrix[i][diagonal_element] == 0):\n",
    "                el[i][diagonal_element] = Decimal(0.0)\n",
    "            else:\n",
    "                el[i][diagonal_element] = Decimal(-1.0)\n",
    "    elementary_matrices_array.append(el)\n",
    "    temporary_matrix = square_matrix_multiplication(el, temporary_matrix)\n",
    "    return elementary_matrices_array, temporary_matrix\n",
    "\n",
    "def cut_i_row_and_jth_column(matrix, row, column):\n",
    "    temp = []\n",
    "    for i in range(len(matrix)):\n",
    "        if(i != row):\n",
    "            temp.append(matrix[i].copy())\n",
    "    for i in range(len(temp)):\n",
    "        temp[i].pop(column)\n",
    "    return temp\n",
    "\n",
    "def determinant(matrix):\n",
    "    if(len(matrix) == 1):\n",
    "        return matrix[0][0]\n",
    "    det = 0\n",
    "    for i in range(len(matrix)):\n",
    "        if i % 2 == 0:\n",
    "            det += matrix[0][i] * determinant(cut_i_row_and_jth_column(matrix, 0, i))\n",
    "        else:\n",
    "            det -= matrix[0][i] * determinant(cut_i_row_and_jth_column(matrix, 0, i))\n",
    "    return det\n",
    "\n",
    "def transpose(matrix):\n",
    "    result = generate_null_matrix(len(matrix))\n",
    "    for i in range(len(matrix)):\n",
    "        for j in range(i, len(matrix)):\n",
    "            a = matrix[j][i]\n",
    "            result[j][i] = matrix[i][j]\n",
    "            result[i][j] = a\n",
    "    return result\n",
    "\n",
    "def inverse(matrix):\n",
    "    inverse = generate_null_matrix(len(matrix))\n",
    "    det = determinant(matrix)\n",
    "    if det == 0:\n",
    "        print(\"non-invertible\")\n",
    "        return inverse\n",
    "    for i in range(len(matrix)):\n",
    "        for j in range(len(matrix)):\n",
    "            if (i + j) % 2 == 0: \n",
    "                inverse[i][j] = determinant(cut_i_row_and_jth_column(matrix, i, j)) / det\n",
    "            else:\n",
    "                inverse[i][j] = -determinant(cut_i_row_and_jth_column(matrix, i, j)) / det\n",
    "    return transpose(inverse)\n",
    "\n",
    "def round_matrix(matrix):\n",
    "    temp = []\n",
    "    for i in range(len(matrix)):\n",
    "        temp.append(matrix[i].copy())\n",
    "        \n",
    "    for i in range(len(temp)):\n",
    "        for j in range(len(temp)):\n",
    "            temp[i][j] = float(round(temp[i][j], 2))\n",
    "    return temp\n",
    "\n",
    "def column(matrix, j):\n",
    "    result = []\n",
    "    for i in range(len(matrix)):\n",
    "        result.append(Decimal(matrix[i][j]))\n",
    "    return result\n",
    "\n",
    "def row(matrix, i):\n",
    "    return matrix[i].copy()\n",
    "\n",
    "def dot_product(vector1, vector2):\n",
    "    result = Decimal(0)\n",
    "    for i in range(len(vector1)):\n",
    "        result += Decimal(vector1[i]) * Decimal(vector2[i])\n",
    "    return result\n",
    "\n",
    "def project_1_on_2(vector1, vector2):\n",
    "    s = Decimal(dot_product(vector1, vector2)) / Decimal(dot_product(vector2, vector2))\n",
    "    return [Decimal(i) * s for i in  vector2]\n",
    "\n",
    "def set_column(matrix, j, vector):\n",
    "    for i in range(len(matrix)):\n",
    "        matrix[i][j] = Decimal(vector[i])\n",
    "    return matrix\n",
    "\n",
    "def vec1_minus_vec2(vec1, vec2):\n",
    "    return [Decimal(vec1[i]) - Decimal(vec2[i]) for i in range(len(vec1))]\n",
    "\n"
   ]
  },
  {
   "cell_type": "code",
   "execution_count": 1081,
   "id": "c88a8327",
   "metadata": {},
   "outputs": [],
   "source": [
    "elementary_matrices_array = []\n",
    "\n",
    "Upper_triangular = covariance_matrix\n",
    "\n",
    "for i in range(n):\n",
    "    elementary_matrices_array, Upper_triangular = ones_column(i, elementary_matrices_array, Upper_triangular)\n",
    "    elementary_matrices_array, Upper_triangular = zeroes_column(i, elementary_matrices_array, Upper_triangular)\n",
    "\n",
    "Lower_triangular = elementary_matrices_array[-1]\n",
    "\n",
    "for i in range(len(elementary_matrices_array) - 2, -1, -1):\n",
    "    Lower_triangular = square_matrix_multiplication(Lower_triangular, elementary_matrices_array[i])\n",
    "Lower_triangular = inverse(Lower_triangular)"
   ]
  },
  {
   "cell_type": "code",
   "execution_count": 1082,
   "id": "15a4975c",
   "metadata": {},
   "outputs": [
    {
     "name": "stdout",
     "output_type": "stream",
     "text": [
      "***Gauss LU decomposition***\n",
      "\n",
      "Initial covariance matrix:\n",
      "[[1.0, 2.0, 3.0, 4.0], [4.0, 3.0, 2.0, 1.0], [90.0, -90.0, 50.0, -50.0], [-100.0, 500.0, -90.0, 45.0]]\n",
      "\n",
      "L matrix:\n",
      "[[1.0, 0.0, 0.0, 0.0], [4.0, -5.0, 0.0, 0.0], [90.0, -270.0, 320.0, 0.0], [-100.0, 700.0, -1190.0, -167.5]]\n",
      "\n",
      "U matrix:\n",
      "[[1.0, 2.0, 3.0, 4.0], [0.0, 1.0, 2.0, 3.0], [-0.0, 0.0, 1.0, 1.25], [0.0, -0.0, 0.0, 1.0]]\n",
      "\n",
      "Multiplied:\n",
      "[[1.0, 2.0, 3.0, 4.0], [4.0, 3.0, 2.0, 1.0], [90.0, -90.0, 50.0, -50.0], [-100.0, 500.0, -90.0, 45.0]]\n"
     ]
    }
   ],
   "source": [
    "print(\"***Gauss LU decomposition***\")\n",
    "print(\"\\nInitial covariance matrix:\")\n",
    "print(round_matrix(covariance_matrix))\n",
    "print(\"\\nL matrix:\")\n",
    "print(round_matrix(Lower_triangular))\n",
    "print(\"\\nU matrix:\")\n",
    "print(round_matrix(Upper_triangular))\n",
    "print(\"\\nMultiplied:\")\n",
    "print(round_matrix(square_matrix_multiplication(Lower_triangular, Upper_triangular)))\n"
   ]
  },
  {
   "cell_type": "code",
   "execution_count": 1083,
   "id": "e0732298",
   "metadata": {},
   "outputs": [],
   "source": [
    "#Task 2\n",
    "# A = QR decomposition (or QU), Q - orhogonal, R - Upper triangular\n",
    "#Firstly Gram-Schmidt:\n",
    "\n",
    "def Gram_Schmidt_orthogonalization(matrix):\n",
    "    V = generate_null_matrix(len(matrix))\n",
    "    for i in range(len(matrix)):\n",
    "        v_i = column(matrix, i)\n",
    "        for k in range(i):\n",
    "            v_i = vec1_minus_vec2(v_i, project_1_on_2(column(matrix, i), column(V, k)))\n",
    "        set_column(V, i, v_i)\n",
    "    return V\n",
    "\n",
    "def Gram_Schmidt_orthonormalization(matrix):\n",
    "    V = Gram_Schmidt_orthogonalization(matrix)\n",
    "    for i in range(len(V)):\n",
    "        set_column(V, i, [Decimal(k) / Decimal(math.sqrt(dot_product(column(V, i), column(V, i)))) for k in column(V, i) ])\n",
    "    return V\n",
    "\n",
    "def Gram_Schmidt_R(matrix, Q): \n",
    "    R = generate_null_matrix(len(matrix))\n",
    "    for col in range(len(matrix)):\n",
    "        for row in range(col + 1):\n",
    "            R[row][col] = dot_product(column(Q, row), column(matrix, col))\n",
    "    return R\n",
    "\n"
   ]
  },
  {
   "cell_type": "code",
   "execution_count": 1084,
   "id": "1992528a",
   "metadata": {},
   "outputs": [],
   "source": [
    "#QR decomposition\n",
    "Q = Gram_Schmidt_orthonormalization(covariance_matrix)\n",
    "R = Gram_Schmidt_R(covariance_matrix, Q)"
   ]
  },
  {
   "cell_type": "code",
   "execution_count": 1085,
   "id": "8c4d1d64",
   "metadata": {},
   "outputs": [
    {
     "name": "stdout",
     "output_type": "stream",
     "text": [
      "***QR decomposition using Gram-Schmidt***\n",
      "\n",
      "Initial covariance matrix:\n",
      "[[1.0, 2.0, 3.0, 4.0], [4.0, 3.0, 2.0, 1.0], [90.0, -90.0, 50.0, -50.0], [-100.0, 500.0, -90.0, 45.0]]\n",
      "\n",
      "Q matrix of orthonormal basis vectors\n",
      "[[0.01, 0.02, 0.99, -0.14], [0.03, 0.06, 0.14, 0.99], [0.67, 0.74, -0.03, -0.06], [-0.74, 0.67, -0.01, -0.02]]\n",
      "\n",
      "R matrix - upper triangular matrix\n",
      "[[134.6, -431.55, 100.38, -66.81], [0.0, 268.1, -23.01, -6.78], [0.0, 0.0, 2.73, 5.06], [0.0, 0.0, 0.0, 2.72]]\n",
      "\n",
      "Multiplied:\n",
      "[[1.0, 2.0, 3.0, 4.0], [4.0, 3.0, 2.0, 1.0], [90.0, -90.0, 50.0, -50.0], [-100.0, 500.0, -90.0, 45.0]]\n"
     ]
    }
   ],
   "source": [
    "print(\"***QR decomposition using Gram-Schmidt***\")\n",
    "print(\"\\nInitial covariance matrix:\")\n",
    "print(round_matrix(covariance_matrix))\n",
    "print(\"\\nQ matrix of orthonormal basis vectors\")\n",
    "print(round_matrix(Q))\n",
    "print(\"\\nR matrix - upper triangular matrix\")\n",
    "print(round_matrix(R))\n",
    "print(\"\\nMultiplied:\")\n",
    "print(round_matrix(square_matrix_multiplication(Q, R)))"
   ]
  },
  {
   "cell_type": "code",
   "execution_count": 1086,
   "id": "a1f8fd23",
   "metadata": {},
   "outputs": [],
   "source": [
    "#Task 3\n",
    "#Let's find eigen values\n",
    "#QR algorithm with low convergence - 100000 iterations\n",
    "\n",
    "def eigenvalues_QR_algorithm(matrix):\n",
    "    A_k = copy.deepcopy(matrix)\n",
    "    U_k = generate_null_matrix(len(A_k))\n",
    "    for i in range(len(U_k)):\n",
    "        U_k[i][i] = Decimal(1.0)\n",
    "\n",
    "    for k in range(100000):\n",
    "        Q_k_plus1 = Gram_Schmidt_orthonormalization(A_k)\n",
    "        R_k_plus1 = Gram_Schmidt_R(A_k, Q_k_plus1)\n",
    "        A_k = square_matrix_multiplication(R_k_plus1, Q_k_plus1)\n",
    "        U_k = square_matrix_multiplication(U_k, Q_k_plus1)\n",
    "    eigenvalues = []\n",
    "    for i in range(len(A_k)):\n",
    "        eigenvalues.append(A_k[i][i])\n",
    "    return eigenvalues, A_k, U_k\n"
   ]
  },
  {
   "cell_type": "code",
   "execution_count": 1087,
   "id": "212d86c8",
   "metadata": {},
   "outputs": [],
   "source": [
    "eigenvalues, A, Transformation = eigenvalues_QR_algorithm(covariance_matrix)"
   ]
  },
  {
   "cell_type": "code",
   "execution_count": 1088,
   "id": "817eefd9",
   "metadata": {},
   "outputs": [
    {
     "name": "stdout",
     "output_type": "stream",
     "text": [
      "\n",
      "Initial covariance matrix:\n",
      "[[1.0, 2.0, 3.0, 4.0], [4.0, 3.0, 2.0, 1.0], [90.0, -90.0, 50.0, -50.0], [-100.0, 500.0, -90.0, 45.0]]\n",
      "\n",
      "Eigenvalues from my algorithm\n",
      "[Decimal('111.6341292136725598372732579'), Decimal('-31.16613260114082677672221585'), Decimal('22.02875607154427042773730536'), Decimal('-3.496752684076011161419347693')]\n",
      "\n",
      "Eigenvalues from numpy\n",
      "[111.63412921  22.02875607  -3.49675268 -31.1661326 ]\n",
      "\n",
      "Final upper triangular matrix:\n",
      "[[111.63, -35.55, -80.83, 462.86], [0.0, -31.17, -111.45, 205.1], [-0.0, 0.0, 22.03, -30.47], [-0.0, 0.0, 0.0, -3.5]]\n",
      "\n",
      "After Transformations using QR algorithm, Gram Schmidt U*T*U_transposed which should be equal to initial\n",
      "[[1.0, 2.0, 3.0, 4.0], [4.0, 3.0, 2.0, 1.0], [90.0, -90.0, 50.0, -50.0], [-100.0, 500.0, -90.0, 45.0]]\n"
     ]
    }
   ],
   "source": [
    "import numpy as np\n",
    "print(\"\\nInitial covariance matrix:\")\n",
    "print(round_matrix(covariance_matrix))\n",
    "print(\"\\nEigenvalues from my algorithm\")\n",
    "print(eigenvalues)\n",
    "print(\"\\nEigenvalues from numpy\")\n",
    "print(np.linalg.eig(round_matrix(covariance_matrix))[0])\n",
    "print(\"\\nFinal upper triangular matrix:\")\n",
    "print(round_matrix(A))\n",
    "print(\"\\nAfter Transformations using QR algorithm, Gram Schmidt U*T*U_transposed which should be equal to initial\")\n",
    "print(round_matrix(square_matrix_multiplication(square_matrix_multiplication(Transformation, A), transpose(Transformation))))"
   ]
  },
  {
   "cell_type": "code",
   "execution_count": 1089,
   "id": "84531b6a",
   "metadata": {},
   "outputs": [],
   "source": [
    "#Task 4 \n",
    "#We can do QR decomposition using Givens transformations\n",
    "\n",
    "def GivensMatrix(row1, row2, column, matrix):\n",
    "    G = generate_null_matrix(len(matrix))\n",
    "    length = Decimal(math.sqrt(math.pow(Decimal(matrix[row1][column]), 2) + math.pow(Decimal(matrix[row2][column]), 2)))\n",
    "    for i in range(len(G)):\n",
    "        if(i == row1 or i == row2):\n",
    "            G[i][i] = Decimal(matrix[row1][column]) / length\n",
    "        else:\n",
    "            G[i][i] = Decimal(1.0)\n",
    "    G[row1][row2] = Decimal(matrix[row2][column]) / length\n",
    "    G[row2][row1] = Decimal(-matrix[row2][column]) / length\n",
    "    return G\n",
    "\n",
    "\n",
    "def QR_decomposition_Givens_method(R):\n",
    "    Q = generate_null_matrix(len(R))\n",
    "    for i in range(len(Q)):\n",
    "        Q[i][i] = Decimal(1.0)  \n",
    "    for col in range(len(R)):\n",
    "        for row in range(col + 1, len(R)):\n",
    "            G = GivensMatrix(col, row, col, R)\n",
    "            R = square_matrix_multiplication(G, R)\n",
    "            Q = square_matrix_multiplication(G, Q)\n",
    "    return transpose(Q), R\n"
   ]
  },
  {
   "cell_type": "code",
   "execution_count": 1090,
   "id": "e866dd19",
   "metadata": {},
   "outputs": [],
   "source": [
    "Q, R = QR_decomposition_Givens_method(covariance_matrix)"
   ]
  },
  {
   "cell_type": "code",
   "execution_count": 1091,
   "id": "2b3b67a9",
   "metadata": {},
   "outputs": [
    {
     "name": "stdout",
     "output_type": "stream",
     "text": [
      "\n",
      "Initial covariance matrix:\n",
      "[[1.0, 2.0, 3.0, 4.0], [4.0, 3.0, 2.0, 1.0], [90.0, -90.0, 50.0, -50.0], [-100.0, 500.0, -90.0, 45.0]]\n",
      "\n",
      "Q\n",
      "[[0.01, 0.02, 0.99, -0.14], [0.03, 0.06, 0.14, 0.99], [0.67, 0.74, -0.03, -0.06], [-0.74, 0.67, -0.01, -0.02]]\n",
      "\n",
      "R\n",
      "[[134.6, -431.55, 100.38, -66.81], [0.0, 268.1, -23.01, -6.78], [0.0, 0.0, 2.73, 5.06], [0.0, -0.0, 0.0, 2.72]]\n",
      "\n",
      "Multiplied:\n",
      "[[1.0, 2.0, 3.0, 4.0], [4.0, 3.0, 2.0, 1.0], [90.0, -90.0, 50.0, -50.0], [-100.0, 500.0, -90.0, 45.0]]\n"
     ]
    }
   ],
   "source": [
    "print(\"\\nInitial covariance matrix:\")\n",
    "print(round_matrix(covariance_matrix))\n",
    "print(\"\\nQ\")\n",
    "print(round_matrix(Q))\n",
    "print(\"\\nR\")\n",
    "print(round_matrix(R))\n",
    "print(\"\\nMultiplied:\")\n",
    "print(round_matrix(square_matrix_multiplication(Q,R)))\n"
   ]
  },
  {
   "cell_type": "code",
   "execution_count": 1092,
   "id": "f10e7f75",
   "metadata": {},
   "outputs": [],
   "source": [
    "#Task 5\n",
    "#Get upper Hessenberg form\n",
    "\n",
    "def Upper_Hessenberg(matrix):\n",
    "    H = copy.deepcopy(matrix)\n",
    "    PG = generate_null_matrix(len(H))\n",
    "    for i in range(len(H)):\n",
    "        PG[i][i] = Decimal(1.0)\n",
    "\n",
    "    for col in range(len(matrix) - 2):\n",
    "        for row in range(col + 2, len(matrix)):\n",
    "            G = GivensMatrix(col + 1, row, col, H)\n",
    "            H = square_matrix_multiplication(square_matrix_multiplication(G, H),transpose(G))\n",
    "            PG = square_matrix_multiplication(G, PG)\n",
    "    return H, PG\n"
   ]
  },
  {
   "cell_type": "code",
   "execution_count": 1093,
   "id": "d2848e92",
   "metadata": {},
   "outputs": [],
   "source": [
    "H, PG = Upper_Hessenberg(covariance_matrix)"
   ]
  },
  {
   "cell_type": "code",
   "execution_count": 1094,
   "id": "99cb9f87",
   "metadata": {},
   "outputs": [
    {
     "name": "stdout",
     "output_type": "stream",
     "text": [
      "\n",
      "Initial matrix:\n",
      "[[1.0, 2.0, 3.0, 4.0], [4.0, 3.0, 2.0, 1.0], [90.0, -90.0, 50.0, -50.0], [-100.0, 500.0, -90.0, 45.0]]\n",
      "\n",
      "Upper Hessenberg form\n",
      "[[1.0, -0.91, -4.81, 2.24], [134.6, 103.94, 300.14, 316.08], [-0.0, 3.27, 132.67, 140.57], [-0.0, 0.0, -125.93, -138.61]]\n",
      "\n",
      "Product of Givens transformations:\n",
      "[[1.0, 0.0, 0.0, 0.0], [0.0, 0.03, 0.67, -0.74], [0.0, -0.74, -0.49, -0.47], [0.0, -0.68, 0.56, 0.48]]\n",
      "\n",
      "Multiplied:\n",
      "[[1.0, 2.0, 3.0, 4.0], [4.0, 3.0, 2.0, 1.0], [90.0, -90.0, 50.0, -50.0], [-100.0, 500.0, -90.0, 45.0]]\n"
     ]
    }
   ],
   "source": [
    "print(\"\\nInitial matrix:\")\n",
    "print(round_matrix(covariance_matrix))\n",
    "print(\"\\nUpper Hessenberg form\")\n",
    "print(round_matrix(H))\n",
    "print(\"\\nProduct of Givens transformations:\")\n",
    "print(round_matrix(PG))\n",
    "print(\"\\nMultiplied:\")\n",
    "print(round_matrix(square_matrix_multiplication(square_matrix_multiplication(transpose(PG), H), PG)))"
   ]
  },
  {
   "cell_type": "code",
   "execution_count": 1095,
   "id": "e30f901c",
   "metadata": {},
   "outputs": [],
   "source": [
    "def QR_decomposition_Givens_for_Hessenberg(matrix):\n",
    "    R = copy.deepcopy(matrix)\n",
    "    Q = generate_null_matrix(len(R))\n",
    "    for i in range(len(R)):\n",
    "        Q[i][i] = Decimal(1.0)\n",
    "    for i in range(len(R)-1):\n",
    "        G = GivensMatrix(i, i+1, i, R)\n",
    "        Q = square_matrix_multiplication(G, Q)\n",
    "        R = square_matrix_multiplication(G, R)\n",
    "    return(transpose(Q),R)\n",
    "        \n"
   ]
  },
  {
   "cell_type": "code",
   "execution_count": 1096,
   "id": "e7efaf2d",
   "metadata": {},
   "outputs": [
    {
     "data": {
      "text/plain": [
       "[[1.0, -0.91, -4.81, 2.24],\n",
       " [134.6, 103.94, 300.14, 316.08],\n",
       " [-0.0, 3.27, 132.67, 140.57],\n",
       " [-0.0, 0.0, -125.93, -138.61]]"
      ]
     },
     "execution_count": 1096,
     "metadata": {},
     "output_type": "execute_result"
    }
   ],
   "source": [
    "Q,R = QR_decomposition_Givens_for_Hessenberg(H)\n",
    "\n",
    "round_matrix(square_matrix_multiplication(Q,R))\n"
   ]
  },
  {
   "cell_type": "code",
   "execution_count": 1097,
   "id": "5b29db66",
   "metadata": {},
   "outputs": [],
   "source": [
    "#Task 6 \n",
    "#Hessenberg QR Algorithm O(N^3) - 100 iterations\n",
    "\n",
    "def HessenbergQR(matrix):\n",
    "    A = copy.deepcopy(matrix)\n",
    "    U_k = generate_null_matrix(len(A))\n",
    "    for i in range(len(U_k)):\n",
    "        U_k[i][i] = Decimal(1.0)\n",
    "        \n",
    "    H_k, PG = Upper_Hessenberg(A)\n",
    "    \n",
    "    for i in range(100):\n",
    "        inverse_pg, R_k = QR_decomposition_Givens_for_Hessenberg(H_k)\n",
    "        H_k = square_matrix_multiplication(R_k, inverse_pg)\n",
    "        U_k = square_matrix_multiplication(U_k, inverse_pg)\n",
    "    eigenvalues = []\n",
    "    for i in range(len(H_k)):\n",
    "        eigenvalues.append(H_k[i][i])\n",
    "    U_k = square_matrix_multiplication(transpose(PG), U_k)\n",
    "    return(eigenvalues, H_k, U_k)\n",
    "    \n",
    "\n",
    "\n"
   ]
  },
  {
   "cell_type": "code",
   "execution_count": 1098,
   "id": "acb98b10",
   "metadata": {},
   "outputs": [],
   "source": [
    "eigenvalues_h, H_k, Transformation_h = HessenbergQR(covariance_matrix)"
   ]
  },
  {
   "cell_type": "code",
   "execution_count": 1099,
   "id": "8a88b361",
   "metadata": {},
   "outputs": [
    {
     "name": "stdout",
     "output_type": "stream",
     "text": [
      "\n",
      "Initial covariance matrix:\n",
      "[[1.0, 2.0, 3.0, 4.0], [4.0, 3.0, 2.0, 1.0], [90.0, -90.0, 50.0, -50.0], [-100.0, 500.0, -90.0, 45.0]]\n",
      "\n",
      "Eigenvalues from my algorithm\n",
      "[Decimal('111.6341292136724379175876054'), Decimal('-31.16613260114075366387995029'), Decimal('22.02875607154431284854612307'), Decimal('-3.496752684076011672644039102')]\n",
      "\n",
      "Eigenvalues from numpy\n",
      "[111.63412921  22.02875607  -3.49675268 -31.1661326 ]\n",
      "\n",
      "Final Hessenberg matrix:\n",
      "[[111.63, -35.55, 80.83, -462.86], [-0.0, -31.17, 111.45, -205.1], [-0.0, 0.0, 22.03, -30.47], [-0.0, -0.0, 0.0, -3.5]]\n",
      "\n",
      "After Transformations using QR algorithm, U*T*U_transposed which should be equal to initial\n",
      "[[1.0, 2.0, 3.0, 4.0], [4.0, 3.0, 2.0, 1.0], [90.0, -90.0, 50.0, -50.0], [-100.0, 500.0, -90.0, 45.0]]\n"
     ]
    }
   ],
   "source": [
    "import numpy as np\n",
    "print(\"\\nInitial covariance matrix:\")\n",
    "print(round_matrix(covariance_matrix))\n",
    "print(\"\\nEigenvalues from my algorithm\")\n",
    "print(eigenvalues_h)\n",
    "print(\"\\nEigenvalues from numpy\")\n",
    "print(np.linalg.eig(round_matrix(covariance_matrix))[0])\n",
    "print(\"\\nFinal Hessenberg matrix:\")\n",
    "print(round_matrix(H_k))\n",
    "print(\"\\nAfter Transformations using QR algorithm, U*T*U_transposed which should be equal to initial\")\n",
    "print(round_matrix(square_matrix_multiplication(square_matrix_multiplication(Transformation_h, H_k), transpose(Transformation_h))))"
   ]
  },
  {
   "cell_type": "code",
   "execution_count": null,
   "id": "52d0091b",
   "metadata": {},
   "outputs": [],
   "source": []
  },
  {
   "cell_type": "code",
   "execution_count": null,
   "id": "7dba130b",
   "metadata": {},
   "outputs": [],
   "source": []
  }
 ],
 "metadata": {
  "kernelspec": {
   "display_name": "Python 3 (ipykernel)",
   "language": "python",
   "name": "python3"
  },
  "language_info": {
   "codemirror_mode": {
    "name": "ipython",
    "version": 3
   },
   "file_extension": ".py",
   "mimetype": "text/x-python",
   "name": "python",
   "nbconvert_exporter": "python",
   "pygments_lexer": "ipython3",
   "version": "3.9.7"
  }
 },
 "nbformat": 4,
 "nbformat_minor": 5
}
