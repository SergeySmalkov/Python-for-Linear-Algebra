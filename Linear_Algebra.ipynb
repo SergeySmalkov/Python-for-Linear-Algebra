{
 "cells": [
  {
   "cell_type": "code",
   "execution_count": 130,
   "id": "60d99218",
   "metadata": {},
   "outputs": [],
   "source": [
    "covariance_matrix = [[9, 0, -27, 18],\n",
    "                     [0, 9, -9, -27],\n",
    "                     [-27, -9, 99, -27],\n",
    "                     [18, -27, -27, 121]]\n",
    "\n",
    "#covariance_matrix = [[11.0, 25.0, -30.0],\n",
    "#                     [-3.0, 2.0, 50.0],\n",
    "#                     [-10.0, 100.0, 50.0]]\n",
    "\n",
    "def convert_matrix_to_decimals(matrix):\n",
    "    for i in range(len(matrix)):\n",
    "        for j in range(len(matrix[0])):\n",
    "            matrix[i][j] =  Decimal(matrix[i][j])\n",
    "    return matrix\n",
    "                     \n",
    "\n",
    "n = len(covariance_matrix)\n",
    "import math  #for sqrt function\n",
    "from decimal import Decimal  # to be more precise in arithmetics instead of floats\n",
    "import copy\n",
    "\n",
    "covariance_matrix = convert_matrix_to_decimals(covariance_matrix)"
   ]
  },
  {
   "cell_type": "code",
   "execution_count": 131,
   "id": "1f2f6f5d",
   "metadata": {},
   "outputs": [],
   "source": [
    "# Task 1\n",
    "# LU decomposition using Gauss Elimination\n",
    "\n",
    "\n",
    "def generate_null_matrix(dimension, d2 = 0):\n",
    "    if d2 == 0 : d2 = dimension\n",
    "    elementary_matrix = [[] for i in range(dimension)]\n",
    "    for i in range(dimension):\n",
    "        for j in range(d2): \n",
    "            elementary_matrix[i].append(Decimal(0.0))\n",
    "    return elementary_matrix\n",
    "\n",
    "\n",
    "def square_matrix_multiplication(matrix_a, matrix_b):\n",
    "    result_matrix = generate_null_matrix(len(matrix_a))\n",
    "    for i in range(n):\n",
    "        for j in range(n):\n",
    "            for k in range(n):\n",
    "                result_matrix[i][j] += matrix_a[i][k] * matrix_b[k][j]\n",
    "    return result_matrix\n",
    "\n",
    "def matrix_multiplication(matrix_a, matrix_b):\n",
    "    result_matrix = generate_null_matrix(len(matrix_a), len(matrix_b[0]))\n",
    "    for i in range(len(matrix_a)):\n",
    "        for j in range(len(matrix_b[0])):\n",
    "            for k in range(len(matrix_a[0])):\n",
    "                result_matrix[i][j] += matrix_a[i][k] * matrix_b[k][j]\n",
    "    return result_matrix\n",
    "\n",
    "def ones_column(diagonal_element, elementary_matrices_array, temporary_matrix):\n",
    "    el = generate_null_matrix(len(temporary_matrix))\n",
    "    for i in range(n):\n",
    "        if(i < diagonal_element):\n",
    "            el[i][i] = Decimal(1.0) \n",
    "        else:\n",
    "            if(temporary_matrix[i][diagonal_element] == 0.0):\n",
    "                el[i][i] = Decimal(1.0)\n",
    "            else:\n",
    "                el[i][i] = Decimal(1.0) / temporary_matrix[i][diagonal_element]\n",
    "    elementary_matrices_array.append(el)\n",
    "    temporary_matrix = square_matrix_multiplication(el, temporary_matrix)\n",
    "    return elementary_matrices_array, temporary_matrix\n",
    "\n",
    "def zeroes_column(diagonal_element, elementary_matrices_array, temporary_matrix):\n",
    "    el = generate_null_matrix(len(temporary_matrix))\n",
    "    for i in range(n):\n",
    "        el[i][i] = Decimal(1.0)\n",
    "        if(i > diagonal_element):\n",
    "            if(temporary_matrix[i][diagonal_element] == 0):\n",
    "                el[i][diagonal_element] = Decimal(0.0)\n",
    "            else:\n",
    "                el[i][diagonal_element] = Decimal(-1.0)\n",
    "    elementary_matrices_array.append(el)\n",
    "    temporary_matrix = square_matrix_multiplication(el, temporary_matrix)\n",
    "    return elementary_matrices_array, temporary_matrix\n",
    "\n",
    "def cut_i_row_and_jth_column(matrix, row, column):\n",
    "    temp = []\n",
    "    for i in range(len(matrix)):\n",
    "        if(i != row):\n",
    "            temp.append(matrix[i].copy())\n",
    "    for i in range(len(temp)):\n",
    "        temp[i].pop(column)\n",
    "    return temp\n",
    "\n",
    "def determinant(matrix):\n",
    "    if(len(matrix) == 1):\n",
    "        return matrix[0][0]\n",
    "    det = 0\n",
    "    for i in range(len(matrix)):\n",
    "        if i % 2 == 0:\n",
    "            det += matrix[0][i] * determinant(cut_i_row_and_jth_column(matrix, 0, i))\n",
    "        else:\n",
    "            det -= matrix[0][i] * determinant(cut_i_row_and_jth_column(matrix, 0, i))\n",
    "    return det\n",
    "\n",
    "def add_two_matrices(matrix1, matrix2):\n",
    "    answer = generate_null_matrix(len(matrix1), len(matrix1[0]))\n",
    "    for i in range(len(matrix1)):\n",
    "        for j in range(len(matrix1[0])):\n",
    "            answer[i][j] = matrix1[i][j] +  matrix2[i][j]\n",
    "    return answer\n",
    "\n",
    "def substract_two_matrices(matrix1, matrix2):\n",
    "    answer = generate_null_matrix(len(matrix1), len(matrix1[0]))\n",
    "    for i in range(len(matrix1)):\n",
    "        for j in range(len(matrix1[0])):\n",
    "            answer[i][j] = matrix1[i][j] -  matrix2[i][j]\n",
    "    return answer\n",
    "\n",
    "def transpose(matrix):\n",
    "    result = generate_null_matrix(len(matrix))\n",
    "    for i in range(len(matrix)):\n",
    "        for j in range(i, len(matrix)):\n",
    "            a = matrix[j][i]\n",
    "            result[j][i] = matrix[i][j]\n",
    "            result[i][j] = a\n",
    "    return result\n",
    "\n",
    "def inverse(matrix):\n",
    "    inverse = generate_null_matrix(len(matrix))\n",
    "    det = determinant(matrix)\n",
    "    if det == 0:\n",
    "        print(\"non-invertible\")\n",
    "        return inverse\n",
    "    for i in range(len(matrix)):\n",
    "        for j in range(len(matrix)):\n",
    "            if (i + j) % 2 == 0: \n",
    "                inverse[i][j] = determinant(cut_i_row_and_jth_column(matrix, i, j)) / det\n",
    "            else:\n",
    "                inverse[i][j] = -determinant(cut_i_row_and_jth_column(matrix, i, j)) / det\n",
    "    return transpose(inverse)\n",
    "\n",
    "def round_matrix(matrix):\n",
    "    temp = []\n",
    "    for i in range(len(matrix)):\n",
    "        temp.append(matrix[i].copy())\n",
    "        \n",
    "    for i in range(len(temp)):\n",
    "        for j in range(len(temp[0])):\n",
    "            temp[i][j] = float(round(temp[i][j], 2))\n",
    "    return temp\n",
    "\n",
    "def column(matrix, j):\n",
    "    result = []\n",
    "    for i in range(len(matrix)):\n",
    "        result.append(Decimal(matrix[i][j]))\n",
    "    return result\n",
    "\n",
    "def row(matrix, i):\n",
    "    return matrix[i].copy()\n",
    "\n",
    "def dot_product(vector1, vector2):\n",
    "    result = Decimal(0)\n",
    "    for i in range(len(vector1)):\n",
    "        result += Decimal(vector1[i]) * Decimal(vector2[i])\n",
    "    return result\n",
    "\n",
    "def project_1_on_2(vector1, vector2):\n",
    "    s = Decimal(dot_product(vector1, vector2)) / Decimal(dot_product(vector2, vector2))\n",
    "    return [Decimal(i) * s for i in  vector2]\n",
    "\n",
    "def set_column(matrix, j, vector):\n",
    "    for i in range(len(matrix)):\n",
    "        matrix[i][j] = Decimal(vector[i])\n",
    "    return matrix\n",
    "\n",
    "def vec1_minus_vec2(vec1, vec2):\n",
    "    return [Decimal(vec1[i]) - Decimal(vec2[i]) for i in range(len(vec1))]\n",
    "\n",
    "def scale_vector(vec1, constant):\n",
    "    return [Decimal(vec1[i]) * Decimal(constant) for i in range(len(vec1))]\n",
    "\n",
    "def sign(number):\n",
    "    if number >= 0:\n",
    "        return Decimal(1.0)\n",
    "    else:\n",
    "        return Decimal(-1.0)"
   ]
  },
  {
   "cell_type": "code",
   "execution_count": 132,
   "id": "c88a8327",
   "metadata": {},
   "outputs": [],
   "source": [
    "elementary_matrices_array = []\n",
    "\n",
    "Upper_triangular = covariance_matrix\n",
    "\n",
    "for i in range(n):\n",
    "    elementary_matrices_array, Upper_triangular = ones_column(i, elementary_matrices_array, Upper_triangular)\n",
    "    elementary_matrices_array, Upper_triangular = zeroes_column(i, elementary_matrices_array, Upper_triangular)\n",
    "\n",
    "Lower_triangular = elementary_matrices_array[-1]\n",
    "\n",
    "for i in range(len(elementary_matrices_array) - 2, -1, -1):\n",
    "    Lower_triangular = square_matrix_multiplication(Lower_triangular, elementary_matrices_array[i])\n",
    "Lower_triangular = inverse(Lower_triangular)"
   ]
  },
  {
   "cell_type": "code",
   "execution_count": 133,
   "id": "15a4975c",
   "metadata": {},
   "outputs": [
    {
     "name": "stdout",
     "output_type": "stream",
     "text": [
      "***Gauss LU decomposition***\n",
      "\n",
      "Initial covariance matrix:\n",
      "[[9.0, 0.0, -27.0, 18.0], [0.0, 9.0, -9.0, -27.0], [-27.0, -9.0, 99.0, -27.0], [18.0, -27.0, -27.0, 121.0]]\n",
      "\n",
      "L matrix:\n",
      "[[9.0, 0.0, 0.0, 0.0], [0.0, 9.0, 0.0, 0.0], [-27.0, -9.0, 9.0, 0.0], [18.0, -27.0, 0.0, 4.0]]\n",
      "\n",
      "U matrix:\n",
      "[[1.0, 0.0, -3.0, 2.0], [0.0, 1.0, -1.0, -3.0], [-0.0, 0.0, 1.0, -0.0], [0.0, -0.0, 0.0, 1.0]]\n",
      "\n",
      "Multiplied:\n",
      "[[9.0, 0.0, -27.0, 18.0], [0.0, 9.0, -9.0, -27.0], [-27.0, -9.0, 99.0, -27.0], [18.0, -27.0, -27.0, 121.0]]\n"
     ]
    }
   ],
   "source": [
    "print(\"***Gauss LU decomposition***\")\n",
    "print(\"\\nInitial covariance matrix:\")\n",
    "print(round_matrix(covariance_matrix))\n",
    "print(\"\\nL matrix:\")\n",
    "print(round_matrix(Lower_triangular))\n",
    "print(\"\\nU matrix:\")\n",
    "print(round_matrix(Upper_triangular))\n",
    "print(\"\\nMultiplied:\")\n",
    "print(round_matrix(square_matrix_multiplication(Lower_triangular, Upper_triangular)))\n"
   ]
  },
  {
   "cell_type": "code",
   "execution_count": 134,
   "id": "e0732298",
   "metadata": {},
   "outputs": [],
   "source": [
    "#Task 2\n",
    "# A = QR decomposition (or QU), Q - orhogonal, R - Upper triangular\n",
    "#Firstly Gram-Schmidt:\n",
    "\n",
    "def Gram_Schmidt_orthogonalization(matrix):\n",
    "    V = generate_null_matrix(len(matrix))\n",
    "    for i in range(len(matrix)):\n",
    "        v_i = column(matrix, i)\n",
    "        for k in range(i):\n",
    "            v_i = vec1_minus_vec2(v_i, project_1_on_2(column(matrix, i), column(V, k)))\n",
    "        set_column(V, i, v_i)\n",
    "    return V\n",
    "\n",
    "def Gram_Schmidt_orthonormalization(matrix):\n",
    "    V = Gram_Schmidt_orthogonalization(matrix)\n",
    "    for i in range(len(V)):\n",
    "        set_column(V, i, [Decimal(k) / Decimal(math.sqrt(dot_product(column(V, i), column(V, i)))) for k in column(V, i) ])\n",
    "    return V\n",
    "\n",
    "def Gram_Schmidt_R(matrix, Q): \n",
    "    R = generate_null_matrix(len(matrix))\n",
    "    for col in range(len(matrix)):\n",
    "        for row in range(col + 1):\n",
    "            R[row][col] = dot_product(column(Q, row), column(matrix, col))\n",
    "    return R\n",
    "\n"
   ]
  },
  {
   "cell_type": "code",
   "execution_count": 135,
   "id": "1992528a",
   "metadata": {},
   "outputs": [],
   "source": [
    "#QR decomposition\n",
    "Q = Gram_Schmidt_orthonormalization(covariance_matrix)\n",
    "R = Gram_Schmidt_R(covariance_matrix, Q)"
   ]
  },
  {
   "cell_type": "code",
   "execution_count": 136,
   "id": "8c4d1d64",
   "metadata": {},
   "outputs": [
    {
     "name": "stdout",
     "output_type": "stream",
     "text": [
      "***QR decomposition using Gram-Schmidt***\n",
      "\n",
      "Initial covariance matrix:\n",
      "[[9.0, 0.0, -27.0, 18.0], [0.0, 9.0, -9.0, -27.0], [-27.0, -9.0, 99.0, -27.0], [18.0, -27.0, -27.0, 121.0]]\n",
      "\n",
      "Q matrix of orthonormal basis vectors\n",
      "[[0.27, 0.07, 0.8, -0.53], [0.0, 0.31, 0.51, 0.8], [-0.8, -0.51, 0.31, 0.0], [0.53, -0.8, 0.07, 0.27]]\n",
      "\n",
      "R matrix - upper triangular matrix\n",
      "[[33.67, -7.22, -101.02, 91.14], [0.0, 28.96, -33.56, -90.09], [0.0, 0.0, 2.8, 0.27], [0.0, 0.0, 0.0, 1.07]]\n",
      "\n",
      "Multiplied:\n",
      "[[9.0, 0.0, -27.0, 18.0], [0.0, 9.0, -9.0, -27.0], [-27.0, -9.0, 99.0, -27.0], [18.0, -27.0, -27.0, 121.0]]\n"
     ]
    }
   ],
   "source": [
    "print(\"***QR decomposition using Gram-Schmidt***\")\n",
    "print(\"\\nInitial covariance matrix:\")\n",
    "print(round_matrix(covariance_matrix))\n",
    "print(\"\\nQ matrix of orthonormal basis vectors\")\n",
    "print(round_matrix(Q))\n",
    "print(\"\\nR matrix - upper triangular matrix\")\n",
    "print(round_matrix(R))\n",
    "print(\"\\nMultiplied:\")\n",
    "print(round_matrix(square_matrix_multiplication(Q, R)))"
   ]
  },
  {
   "cell_type": "code",
   "execution_count": 137,
   "id": "a1f8fd23",
   "metadata": {},
   "outputs": [],
   "source": [
    "#Task 3\n",
    "#Let's find eigen values\n",
    "#QR algorithm with low convergence - 100000 iterations\n",
    "\n",
    "def eigenvalues_QR_algorithm(matrix):\n",
    "    A_k = copy.deepcopy(matrix)\n",
    "    U_k = generate_null_matrix(len(A_k))\n",
    "    for i in range(len(U_k)):\n",
    "        U_k[i][i] = Decimal(1.0)\n",
    "\n",
    "    for k in range(100000):\n",
    "        Q_k_plus1 = Gram_Schmidt_orthonormalization(A_k)\n",
    "        R_k_plus1 = Gram_Schmidt_R(A_k, Q_k_plus1)\n",
    "        A_k = square_matrix_multiplication(R_k_plus1, Q_k_plus1)\n",
    "        U_k = square_matrix_multiplication(U_k, Q_k_plus1)\n",
    "    eigenvalues = []\n",
    "    for i in range(len(A_k)):\n",
    "        eigenvalues.append(A_k[i][i])\n",
    "    return eigenvalues, A_k, U_k\n"
   ]
  },
  {
   "cell_type": "code",
   "execution_count": 138,
   "id": "212d86c8",
   "metadata": {},
   "outputs": [],
   "source": [
    "eigenvalues, A, Transformation = eigenvalues_QR_algorithm(covariance_matrix)"
   ]
  },
  {
   "cell_type": "code",
   "execution_count": 139,
   "id": "817eefd9",
   "metadata": {},
   "outputs": [
    {
     "name": "stdout",
     "output_type": "stream",
     "text": [
      "\n",
      "Initial covariance matrix:\n",
      "[[9.0, 0.0, -27.0, 18.0], [0.0, 9.0, -9.0, -27.0], [-27.0, -9.0, 99.0, -27.0], [18.0, -27.0, -27.0, 121.0]]\n",
      "\n",
      "Eigenvalues from my algorithm\n",
      "[Decimal('147.8167697794879365359311610'), Decimal('89.09239869358057208486107169'), Decimal('0.8211967199625457605329929291'), Decimal('0.2696348069692180778425008173')]\n",
      "\n",
      "Eigenvalues from numpy\n",
      "[147.81676978  89.09239869   0.82119672   0.26963481]\n",
      "\n",
      "Final upper triangular matrix:\n",
      "[[147.82, -0.0, -0.0, -0.0], [-0.0, 89.09, -0.0, -0.0], [-0.0, -0.0, 0.82, 0.0], [0.0, -0.0, 0.0, 0.27]]\n",
      "\n",
      "After Transformations using QR algorithm, Gram Schmidt U*T*U_transposed which should be equal to initial\n",
      "[[9.0, 0.0, -27.0, 18.0], [0.0, 9.0, -9.0, -27.0], [-27.0, -9.0, 99.0, -27.0], [18.0, -27.0, -27.0, 121.0]]\n"
     ]
    }
   ],
   "source": [
    "import numpy as np\n",
    "print(\"\\nInitial covariance matrix:\")\n",
    "print(round_matrix(covariance_matrix))\n",
    "print(\"\\nEigenvalues from my algorithm\")\n",
    "print(eigenvalues)\n",
    "print(\"\\nEigenvalues from numpy\")\n",
    "print(np.linalg.eig(round_matrix(covariance_matrix))[0])\n",
    "print(\"\\nFinal upper triangular matrix:\")\n",
    "print(round_matrix(A))\n",
    "print(\"\\nAfter Transformations using QR algorithm, Gram Schmidt U*T*U_transposed which should be equal to initial\")\n",
    "print(round_matrix(square_matrix_multiplication(square_matrix_multiplication(Transformation, A), transpose(Transformation))))"
   ]
  },
  {
   "cell_type": "code",
   "execution_count": 140,
   "id": "84531b6a",
   "metadata": {},
   "outputs": [],
   "source": [
    "#Task 4 \n",
    "#We can do QR decomposition using Givens transformations\n",
    "\n",
    "def GivensMatrix(row1, row2, column, matrix):\n",
    "    G = generate_null_matrix(len(matrix))\n",
    "    length = Decimal(math.sqrt(math.pow(Decimal(matrix[row1][column]), 2) + math.pow(Decimal(matrix[row2][column]), 2)))\n",
    "    for i in range(len(G)):\n",
    "        if(i == row1 or i == row2):\n",
    "            G[i][i] = Decimal(matrix[row1][column]) / length\n",
    "        else:\n",
    "            G[i][i] = Decimal(1.0)\n",
    "    G[row1][row2] = Decimal(matrix[row2][column]) / length\n",
    "    G[row2][row1] = Decimal(-matrix[row2][column]) / length\n",
    "    return G\n",
    "\n",
    "\n",
    "def QR_decomposition_Givens_method(R):\n",
    "    Q = generate_null_matrix(len(R))\n",
    "    for i in range(len(Q)):\n",
    "        Q[i][i] = Decimal(1.0)  \n",
    "    for col in range(len(R)):\n",
    "        for row in range(col + 1, len(R)):\n",
    "            G = GivensMatrix(col, row, col, R)\n",
    "            R = square_matrix_multiplication(G, R)\n",
    "            Q = square_matrix_multiplication(G, Q)\n",
    "    return transpose(Q), R\n"
   ]
  },
  {
   "cell_type": "code",
   "execution_count": 141,
   "id": "e866dd19",
   "metadata": {},
   "outputs": [],
   "source": [
    "Q, R = QR_decomposition_Givens_method(covariance_matrix)"
   ]
  },
  {
   "cell_type": "code",
   "execution_count": 142,
   "id": "2b3b67a9",
   "metadata": {},
   "outputs": [
    {
     "name": "stdout",
     "output_type": "stream",
     "text": [
      "\n",
      "Initial covariance matrix:\n",
      "[[9.0, 0.0, -27.0, 18.0], [0.0, 9.0, -9.0, -27.0], [-27.0, -9.0, 99.0, -27.0], [18.0, -27.0, -27.0, 121.0]]\n",
      "\n",
      "Q\n",
      "[[0.27, 0.07, 0.8, -0.53], [0.0, 0.31, 0.51, 0.8], [-0.8, -0.51, 0.31, -0.0], [0.53, -0.8, 0.07, 0.27]]\n",
      "\n",
      "R\n",
      "[[33.67, -7.22, -101.02, 91.14], [0.0, 28.96, -33.56, -90.09], [0.0, 0.0, 2.8, 0.27], [0.0, 0.0, 0.0, 1.07]]\n",
      "\n",
      "Multiplied:\n",
      "[[9.0, -0.0, -27.0, 18.0], [0.0, 9.0, -9.0, -27.0], [-27.0, -9.0, 99.0, -27.0], [18.0, -27.0, -27.0, 121.0]]\n"
     ]
    }
   ],
   "source": [
    "print(\"\\nInitial covariance matrix:\")\n",
    "print(round_matrix(covariance_matrix))\n",
    "print(\"\\nQ\")\n",
    "print(round_matrix(Q))\n",
    "print(\"\\nR\")\n",
    "print(round_matrix(R))\n",
    "print(\"\\nMultiplied:\")\n",
    "print(round_matrix(square_matrix_multiplication(Q,R)))\n"
   ]
  },
  {
   "cell_type": "code",
   "execution_count": 143,
   "id": "f10e7f75",
   "metadata": {},
   "outputs": [],
   "source": [
    "#Task 5\n",
    "#Get upper Hessenberg form\n",
    "\n",
    "def Upper_Hessenberg(matrix):\n",
    "    H = copy.deepcopy(matrix)\n",
    "    PG = generate_null_matrix(len(H))\n",
    "    for i in range(len(H)):\n",
    "        PG[i][i] = Decimal(1.0)\n",
    "\n",
    "    for col in range(len(matrix) - 2):\n",
    "        for row in range(col + 2, len(matrix)):\n",
    "            G = GivensMatrix(col + 1, row, col, H)\n",
    "            H = square_matrix_multiplication(square_matrix_multiplication(G, H),transpose(G))\n",
    "            PG = square_matrix_multiplication(G, PG)\n",
    "    return H, PG\n"
   ]
  },
  {
   "cell_type": "code",
   "execution_count": 144,
   "id": "d2848e92",
   "metadata": {},
   "outputs": [],
   "source": [
    "H, PG = Upper_Hessenberg(covariance_matrix)"
   ]
  },
  {
   "cell_type": "code",
   "execution_count": 145,
   "id": "99cb9f87",
   "metadata": {},
   "outputs": [
    {
     "name": "stdout",
     "output_type": "stream",
     "text": [
      "\n",
      "Initial matrix:\n",
      "[[9.0, 0.0, -27.0, 18.0], [0.0, 9.0, -9.0, -27.0], [-27.0, -9.0, 99.0, -27.0], [18.0, -27.0, -27.0, 121.0]]\n",
      "\n",
      "Upper Hessenberg form\n",
      "[[9.0, 32.45, 0.0, 0.0], [32.45, 130.69, 21.86, 0.0], [0.0, 21.86, 97.56, -4.83], [0.0, -0.0, -4.83, 0.75]]\n",
      "\n",
      "Product of Givens transformations:\n",
      "[[1.0, 0.0, 0.0, 0.0], [0.0, 0.0, -0.83, 0.55], [0.0, -0.34, 0.52, 0.78], [0.0, -0.94, -0.19, -0.29]]\n",
      "\n",
      "Multiplied:\n",
      "[[9.0, 0.0, -27.0, 18.0], [0.0, 9.0, -9.0, -27.0], [-27.0, -9.0, 99.0, -27.0], [18.0, -27.0, -27.0, 121.0]]\n"
     ]
    }
   ],
   "source": [
    "print(\"\\nInitial matrix:\")\n",
    "print(round_matrix(covariance_matrix))\n",
    "print(\"\\nUpper Hessenberg form\")\n",
    "print(round_matrix(H))\n",
    "print(\"\\nProduct of Givens transformations:\")\n",
    "print(round_matrix(PG))\n",
    "print(\"\\nMultiplied:\")\n",
    "print(round_matrix(square_matrix_multiplication(square_matrix_multiplication(transpose(PG), H), PG)))"
   ]
  },
  {
   "cell_type": "code",
   "execution_count": 146,
   "id": "e30f901c",
   "metadata": {},
   "outputs": [],
   "source": [
    "def QR_decomposition_Givens_for_Hessenberg(matrix):\n",
    "    R = copy.deepcopy(matrix)\n",
    "    Q = generate_null_matrix(len(R))\n",
    "    for i in range(len(R)):\n",
    "        Q[i][i] = Decimal(1.0)\n",
    "    for i in range(len(R)-1):\n",
    "        G = GivensMatrix(i, i+1, i, R)\n",
    "        Q = square_matrix_multiplication(G, Q)\n",
    "        R = square_matrix_multiplication(G, R)\n",
    "    return(transpose(Q),R)\n",
    "        \n"
   ]
  },
  {
   "cell_type": "code",
   "execution_count": 147,
   "id": "e7efaf2d",
   "metadata": {},
   "outputs": [
    {
     "data": {
      "text/plain": [
       "[[9.0, 32.45, -0.0, 0.0],\n",
       " [32.45, 130.69, 21.86, -0.0],\n",
       " [-0.0, 21.86, 97.56, -4.83],\n",
       " [0.0, -0.0, -4.83, 0.75]]"
      ]
     },
     "execution_count": 147,
     "metadata": {},
     "output_type": "execute_result"
    }
   ],
   "source": [
    "Q,R = QR_decomposition_Givens_for_Hessenberg(H)\n",
    "\n",
    "round_matrix(square_matrix_multiplication(Q,R))\n"
   ]
  },
  {
   "cell_type": "code",
   "execution_count": 148,
   "id": "5b29db66",
   "metadata": {},
   "outputs": [],
   "source": [
    "#Task 6 \n",
    "#Hessenberg QR Algorithm O(N^3) - 100 iterations\n",
    "\n",
    "def HessenbergQR(matrix):\n",
    "    A = copy.deepcopy(matrix)\n",
    "    U_k = generate_null_matrix(len(A))\n",
    "    for i in range(len(U_k)):\n",
    "        U_k[i][i] = Decimal(1.0)\n",
    "        \n",
    "    H_k, PG = Upper_Hessenberg(A)\n",
    "    \n",
    "    for i in range(100):\n",
    "        inverse_pg, R_k = QR_decomposition_Givens_for_Hessenberg(H_k)\n",
    "        H_k = square_matrix_multiplication(R_k, inverse_pg)\n",
    "        U_k = square_matrix_multiplication(U_k, inverse_pg)\n",
    "    eigenvalues = []\n",
    "    for i in range(len(H_k)):\n",
    "        eigenvalues.append(H_k[i][i])\n",
    "    U_k = square_matrix_multiplication(transpose(PG), U_k)\n",
    "    return(eigenvalues, H_k, U_k)\n",
    "    \n",
    "\n",
    "\n"
   ]
  },
  {
   "cell_type": "code",
   "execution_count": 149,
   "id": "acb98b10",
   "metadata": {},
   "outputs": [],
   "source": [
    "eigenvalues_h, H_k, Transformation_h = HessenbergQR(covariance_matrix)"
   ]
  },
  {
   "cell_type": "code",
   "execution_count": 150,
   "id": "8a88b361",
   "metadata": {},
   "outputs": [
    {
     "name": "stdout",
     "output_type": "stream",
     "text": [
      "\n",
      "Initial covariance matrix:\n",
      "[[9.0, 0.0, -27.0, 18.0], [0.0, 9.0, -9.0, -27.0], [-27.0, -9.0, 99.0, -27.0], [18.0, -27.0, -27.0, 121.0]]\n",
      "\n",
      "Eigenvalues from my algorithm\n",
      "[Decimal('147.8167697794873860387238088'), Decimal('89.09239869358016994803759675'), Decimal('0.8211967199625452077154838405'), Decimal('0.2696348069692176724956488621')]\n",
      "\n",
      "Eigenvalues from numpy\n",
      "[147.81676978  89.09239869   0.82119672   0.26963481]\n",
      "\n",
      "Final Hessenberg matrix:\n",
      "[[147.82, 0.0, -0.0, 0.0], [0.0, 89.09, -0.0, -0.0], [0.0, -0.0, 0.82, -0.0], [-0.0, 0.0, -0.0, 0.27]]\n",
      "\n",
      "After Transformations using QR algorithm, U*T*U_transposed which should be equal to initial\n",
      "[[9.0, 0.0, -27.0, 18.0], [0.0, 9.0, -9.0, -27.0], [-27.0, -9.0, 99.0, -27.0], [18.0, -27.0, -27.0, 121.0]]\n"
     ]
    }
   ],
   "source": [
    "import numpy as np\n",
    "print(\"\\nInitial covariance matrix:\")\n",
    "print(round_matrix(covariance_matrix))\n",
    "print(\"\\nEigenvalues from my algorithm\")\n",
    "print(eigenvalues_h)\n",
    "print(\"\\nEigenvalues from numpy\")\n",
    "print(np.linalg.eig(round_matrix(covariance_matrix))[0])\n",
    "print(\"\\nFinal Hessenberg matrix:\")\n",
    "print(round_matrix(H_k))\n",
    "print(\"\\nAfter Transformations using QR algorithm, U*T*U_transposed which should be equal to initial\")\n",
    "print(round_matrix(square_matrix_multiplication(square_matrix_multiplication(Transformation_h, H_k), transpose(Transformation_h))))"
   ]
  },
  {
   "cell_type": "code",
   "execution_count": 151,
   "id": "52d0091b",
   "metadata": {},
   "outputs": [],
   "source": [
    "#Task 7 Cholesky decomposition - can work only with symmetric positive definite matrix\n",
    "def Cholesky_decomposition(matrix):\n",
    "    if len(matrix) == 1:\n",
    "        return matrix\n",
    "    L_matrix = generate_null_matrix(len(matrix))\n",
    "    L_matrix[0][0] = Decimal(math.sqrt(matrix[0][0]))\n",
    "    for i in range(1, len(matrix)):\n",
    "        L_matrix[i][0] = matrix[i][0] / L_matrix[0][0]\n",
    "        \n",
    "    for j in range(1, len(matrix)):\n",
    "        for i in range(j, len(matrix)):\n",
    "            temp_sum = 0 \n",
    "            if j == i:\n",
    "                for p in range(j):\n",
    "                    temp_sum = temp_sum + L_matrix[j][p] ** 2\n",
    "                L_matrix[j][j] = Decimal(math.sqrt(matrix[j][j] - temp_sum))\n",
    "            else:\n",
    "                for k in range(j):\n",
    "                    temp_sum = temp_sum + L_matrix[j][k] * L_matrix[i][k]\n",
    "                L_matrix[i][j] = (matrix[i][j] - temp_sum) / L_matrix[j][j]  \n",
    "    return L_matrix"
   ]
  },
  {
   "cell_type": "code",
   "execution_count": 152,
   "id": "7dba130b",
   "metadata": {},
   "outputs": [
    {
     "name": "stdout",
     "output_type": "stream",
     "text": [
      "\n",
      "L matrix:\n",
      "[[3.0, 0.0, 0.0, 0.0], [0.0, 3.0, 0.0, 0.0], [-9.0, -3.0, 3.0, 0.0], [6.0, -9.0, 0.0, 2.0]]\n",
      "\n",
      "L * L^T:\n",
      "[[9.0, 0.0, -27.0, 18.0], [0.0, 9.0, -9.0, -27.0], [-27.0, -9.0, 99.0, -27.0], [18.0, -27.0, -27.0, 121.0]]\n",
      "\n",
      "Initial matrix:\n",
      "[[9.0, 0.0, -27.0, 18.0], [0.0, 9.0, -9.0, -27.0], [-27.0, -9.0, 99.0, -27.0], [18.0, -27.0, -27.0, 121.0]]\n"
     ]
    }
   ],
   "source": [
    "L = Cholesky_decomposition(covariance_matrix)\n",
    "print(\"\\nL matrix:\")\n",
    "print(round_matrix(L))\n",
    "print(\"\\nL * L^T:\")\n",
    "print(round_matrix(square_matrix_multiplication(L, transpose(L))))\n",
    "print(\"\\nInitial matrix:\")\n",
    "print(round_matrix(covariance_matrix))\n"
   ]
  },
  {
   "cell_type": "code",
   "execution_count": 153,
   "id": "76d3dd43",
   "metadata": {},
   "outputs": [],
   "source": [
    "#Task 8 Householder rotation\n",
    "#Input is list \n",
    "def Householder_matrix (v):\n",
    "    I = generate_null_matrix(len(v))\n",
    "    for i in range(len(v)):\n",
    "        I[i][i] = Decimal(1.0)\n",
    "    return substract_two_matrices(I,  matrix_multiplication( [[Decimal(v[i])] for i in range(len(v))], [scale_vector(v, Decimal(2) / dot_product(v, v))] ))\n",
    "\n",
    "def QR_decomposition_Householder(matrix):\n",
    "    R = copy.deepcopy(matrix)\n",
    "    Householder_matrices = []\n",
    "    Q = generate_null_matrix(len(matrix))\n",
    "    for i in range(len(matrix)):\n",
    "        Q[i][i] = Decimal(1.0)\n",
    "    for p in range(len(matrix[0]) - 1):\n",
    "        k = [Decimal(R[i][p]) for i in range(len(R))]\n",
    "        for i in range(p):\n",
    "            k[i] = Decimal(0.0)\n",
    "        length = Decimal(math.sqrt(Decimal(dot_product(k,k))))\n",
    "        k[p] = k[p] - Decimal(sign(k[p])) * length    \n",
    "        H = Householder_matrix(k)\n",
    "        Householder_matrices.append(H)\n",
    "        R = matrix_multiplication(H, R)\n",
    "        \n",
    "    for i in range(len(Householder_matrices)):\n",
    "        Q = square_matrix_multiplication(Q , Householder_matrices[i])\n",
    "    return Q, R\n",
    "        "
   ]
  },
  {
   "cell_type": "code",
   "execution_count": 161,
   "id": "45bbc520",
   "metadata": {},
   "outputs": [
    {
     "name": "stdout",
     "output_type": "stream",
     "text": [
      "\n",
      "Initial covariance matrix:\n",
      "[[1.0, -1.0, 4.0], [1.0, 4.0, -2.0], [1.0, 4.0, 2.0], [1.0, -1.0, 0.0]]\n",
      "\n",
      "Q\n",
      "[[0.5, -0.5, 0.5, -0.5], [0.5, 0.5, -0.5, -0.5], [0.5, 0.5, 0.5, 0.5], [0.5, -0.5, -0.5, 0.5]]\n",
      "\n",
      "R\n",
      "[[2.0, 3.0, 2.0], [0.0, 5.0, -2.0], [0.0, 0.0, 4.0], [0.0, 0.0, 0.0]]\n",
      "\n",
      "Multiplied:\n",
      "[[1.0, -1.0, 4.0], [1.0, 4.0, -2.0], [1.0, 4.0, 2.0], [1.0, -1.0, 0.0]]\n"
     ]
    }
   ],
   "source": [
    "rect_matrix = [[1, -1, 4],\n",
    "             [1, 4, -2],\n",
    "             [1, 4, 2],\n",
    "             [1, -1, 0]]\n",
    "Q_H, R_H = QR_decomposition_Householder(rect_matrix)\n",
    "\n",
    "print(\"\\nInitial covariance matrix:\")\n",
    "print(round_matrix(rect_matrix))\n",
    "print(\"\\nQ\")\n",
    "print(round_matrix(Q_H))\n",
    "print(\"\\nR\")\n",
    "print(round_matrix(R_H))\n",
    "print(\"\\nMultiplied:\")\n",
    "print(round_matrix(matrix_multiplication(Q_H,R_H)))\n"
   ]
  },
  {
   "cell_type": "code",
   "execution_count": 169,
   "id": "5c6cf3e4",
   "metadata": {},
   "outputs": [
    {
     "data": {
      "text/plain": [
       "[[9.0, 0.0, -27.0, 18.0],\n",
       " [32.45, -7.49, -97.35, 89.58],\n",
       " [-0.0, -28.9, 33.64, 89.85],\n",
       " [-0.0, -0.0, -1.55, -1.04]]"
      ]
     },
     "execution_count": 169,
     "metadata": {},
     "output_type": "execute_result"
    }
   ],
   "source": [
    "def Hessenberg_Householder(matrix):\n",
    "    Hess = copy.deepcopy(matrix)\n",
    "    Householder_matrices = []\n",
    "    PHouse = generate_null_matrix(len(matrix))\n",
    "    for i in range(len(matrix)):\n",
    "        PHouse[i][i] = Decimal(1.0)\n",
    "    for p in range(len(matrix[0]) - 2):\n",
    "        k = [Decimal(Hess[i][p]) for i in range(len(Hess))]\n",
    "        for i in range(p + 1):\n",
    "            k[i] = Decimal(0.0)\n",
    "        length = Decimal(math.sqrt(Decimal(dot_product(k,k))))\n",
    "        k[p + 1] = k[p + 1] - Decimal(sign(k[p + 1])) * length    \n",
    "        H = Householder_matrix(k)\n",
    "        Householder_matrices.append(H)\n",
    "        Hess = matrix_multiplication(H, Hess)\n",
    "        \n",
    "    for i in range(len(Householder_matrices)):\n",
    "        PHouse = square_matrix_multiplication(PHouse , Householder_matrices[i])\n",
    "    return PHouse, Hess\n",
    "\n",
    "round_matrix(Hessenberg_Householder(covariance_matrix)[1])"
   ]
  },
  {
   "cell_type": "code",
   "execution_count": null,
   "id": "922d85a7",
   "metadata": {},
   "outputs": [],
   "source": [
    "\n"
   ]
  },
  {
   "cell_type": "code",
   "execution_count": 156,
   "id": "8056afee",
   "metadata": {},
   "outputs": [
    {
     "data": {
      "text/plain": [
       "Decimal('1')"
      ]
     },
     "execution_count": 156,
     "metadata": {},
     "output_type": "execute_result"
    }
   ],
   "source": [
    "sign(0)"
   ]
  },
  {
   "cell_type": "code",
   "execution_count": 157,
   "id": "26a989fe",
   "metadata": {},
   "outputs": [
    {
     "data": {
      "text/plain": [
       "[Decimal('4'), Decimal('4'), Decimal('4'), Decimal('4')]"
      ]
     },
     "execution_count": 157,
     "metadata": {},
     "output_type": "execute_result"
    }
   ],
   "source": [
    "scale_vector([1,1,1,1], 4)"
   ]
  },
  {
   "cell_type": "code",
   "execution_count": null,
   "id": "141c921a",
   "metadata": {},
   "outputs": [],
   "source": []
  }
 ],
 "metadata": {
  "kernelspec": {
   "display_name": "Python 3 (ipykernel)",
   "language": "python",
   "name": "python3"
  },
  "language_info": {
   "codemirror_mode": {
    "name": "ipython",
    "version": 3
   },
   "file_extension": ".py",
   "mimetype": "text/x-python",
   "name": "python",
   "nbconvert_exporter": "python",
   "pygments_lexer": "ipython3",
   "version": "3.9.7"
  }
 },
 "nbformat": 4,
 "nbformat_minor": 5
}
